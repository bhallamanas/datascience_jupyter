{
 "cells": [
  {
   "cell_type": "markdown",
   "id": "c3e3edf7",
   "metadata": {},
   "source": [
    "My Jupyter Notebook on IBM Watson Studio"
   ]
  },
  {
   "cell_type": "markdown",
   "id": "0bcb69c0",
   "metadata": {},
   "source": [
    "<b>Manas Bhalla</b>"
   ]
  },
  {
   "cell_type": "markdown",
   "id": "ff406cc9",
   "metadata": {},
   "source": [
    "<em>I am interested in Data Science because it is a unqiue field that combines multiple fields to answer important business questions </em>"
   ]
  },
  {
   "cell_type": "markdown",
   "id": "0b4600c9",
   "metadata": {},
   "source": [
    "<h3>Simple addition of a few numbers</h3>"
   ]
  },
  {
   "cell_type": "markdown",
   "id": "4af26f00",
   "metadata": {},
   "source": [
    "<ol>\n",
    " <li>Python</li>\n",
    " <li>R</li>\n",
    " <li>Scala</li>\n",
    "</ol>"
   ]
  },
  {
   "cell_type": "markdown",
   "id": "714cd4d5",
   "metadata": {},
   "source": [
    "<ul>\n",
    " <li>Pandas</li>\n",
    " <li>Spark</li>\n",
    "</ul>"
   ]
  },
  {
   "cell_type": "markdown",
   "id": "18c51c3d",
   "metadata": {},
   "source": [
    "<table>\n",
    "<thead>\n",
    "<tr><th>Tool</th>\n",
    "</thead>\n",
    "<tbody>\n",
    "<tr><td>Jupyter Notebook</td>\n",
    "<tr><td>IBM Watson</td>\n",
    "</tbody>\n",
    "</table>"
   ]
  },
  {
   "cell_type": "code",
   "execution_count": 5,
   "id": "bf1e7707",
   "metadata": {},
   "outputs": [
    {
     "data": {
      "text/plain": [
       "50"
      ]
     },
     "execution_count": 5,
     "metadata": {},
     "output_type": "execute_result"
    }
   ],
   "source": [
    "10*5"
   ]
  },
  {
   "cell_type": "code",
   "execution_count": 6,
   "id": "07e704a4",
   "metadata": {},
   "outputs": [
    {
     "data": {
      "text/plain": [
       "14"
      ]
     },
     "execution_count": 6,
     "metadata": {},
     "output_type": "execute_result"
    }
   ],
   "source": [
    "12+2"
   ]
  },
  {
   "cell_type": "code",
   "execution_count": 9,
   "id": "3f8ab506",
   "metadata": {},
   "outputs": [
    {
     "name": "stdout",
     "output_type": "stream",
     "text": [
      "2.0\n"
     ]
    }
   ],
   "source": [
    "mins = 120\n",
    "hours = mins/60\n",
    "print(hours)"
   ]
  },
  {
   "cell_type": "markdown",
   "id": "2893b23b",
   "metadata": {},
   "source": [
    "<ul>\n",
    " <li>Learn Data Science</li>\n",
    " <li>Do Kaggle</li>\n",
    "</ul>"
   ]
  },
  {
   "cell_type": "markdown",
   "id": "23a6887c",
   "metadata": {},
   "source": [
    " <a href=\"https://en.wikipedia.org\">https://en.wikipedia.org</a>"
   ]
  }
 ],
 "metadata": {
  "kernelspec": {
   "display_name": "Python 3 (ipykernel)",
   "language": "python",
   "name": "python3"
  },
  "language_info": {
   "codemirror_mode": {
    "name": "ipython",
    "version": 3
   },
   "file_extension": ".py",
   "mimetype": "text/x-python",
   "name": "python",
   "nbconvert_exporter": "python",
   "pygments_lexer": "ipython3",
   "version": "3.9.13"
  }
 },
 "nbformat": 4,
 "nbformat_minor": 5
}
