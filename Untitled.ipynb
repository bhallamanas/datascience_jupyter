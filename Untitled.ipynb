{
 "cells": [
  {
   "cell_type": "markdown",
   "id": "3a541d22",
   "metadata": {},
   "source": [
    "My Jupyter Notebook on IBM Watson Studio"
   ]
  },
  {
   "cell_type": "markdown",
   "id": "d7ca46d2",
   "metadata": {},
   "source": [
    "<b>Manas Bhalla</b>"
   ]
  },
  {
   "cell_type": "markdown",
   "id": "15ac178f",
   "metadata": {},
   "source": [
    "<em>I am interested in Data Science because it is a unqiue field that combines multiple fields to answer important business questions </em>"
   ]
  },
  {
   "cell_type": "markdown",
   "id": "833927c7",
   "metadata": {},
   "source": [
    "<h3>Simple addition of a few numbers</h3>"
   ]
  },
  {
   "cell_type": "code",
   "execution_count": 2,
   "id": "f0563a35",
   "metadata": {},
   "outputs": [
    {
     "data": {
      "text/plain": [
       "22"
      ]
     },
     "execution_count": 2,
     "metadata": {},
     "output_type": "execute_result"
    }
   ],
   "source": [
    "10+12"
   ]
  },
  {
   "cell_type": "markdown",
   "id": "3623cd2a",
   "metadata": {},
   "source": [
    "<ol>\n",
    " <li>Cheese</li>\n",
    " <li>Carrot</li>\n",
    " <li>Coconut</li>\n",
    "</ol>\n",
    "\n",
    "<ul>\n",
    " <li>Cheese</li>\n",
    " <li>Carrot</li>\n",
    " <li>Coconut</li>\n",
    " </ul>\n",
    " \n",
    " <a href=\"https://en.wikipedia.org\">https://en.wikipedia.org</a>"
   ]
  }
 ],
 "metadata": {
  "kernelspec": {
   "display_name": "Python 3 (ipykernel)",
   "language": "python",
   "name": "python3"
  },
  "language_info": {
   "codemirror_mode": {
    "name": "ipython",
    "version": 3
   },
   "file_extension": ".py",
   "mimetype": "text/x-python",
   "name": "python",
   "nbconvert_exporter": "python",
   "pygments_lexer": "ipython3",
   "version": "3.9.13"
  }
 },
 "nbformat": 4,
 "nbformat_minor": 5
}
